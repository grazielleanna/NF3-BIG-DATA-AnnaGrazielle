{
  "nbformat": 4,
  "nbformat_minor": 0,
  "metadata": {
    "colab": {
      "provenance": []
    },
    "kernelspec": {
      "name": "python3",
      "display_name": "Python 3"
    },
    "language_info": {
      "name": "python"
    }
  },
  "cells": [
    {
      "cell_type": "code",
      "execution_count": null,
      "metadata": {
        "colab": {
          "base_uri": "https://localhost:8080/"
        },
        "id": "zBE1j33fIxTP",
        "outputId": "5993c33d-5ea0-4929-cb6a-65ffe2814e2d"
      },
      "outputs": [
        {
          "output_type": "execute_result",
          "data": {
            "text/plain": [
              "3     Americas\n",
              "9       Africa\n",
              "21    Americas\n",
              "30      Africa\n",
              "41      Europe\n",
              "57      Europe\n",
              "91      Europe\n",
              "96      Europe\n",
              "Name: WHO region, dtype: object"
            ]
          },
          "metadata": {},
          "execution_count": 68
        }
      ],
      "source": [
        "import pandas as pd\n",
        "\n",
        "# QUESTÃO 01\n",
        "\n",
        "df = pd.read_csv(\"https://raw.githubusercontent.com/grazielleanna/NF3-BIG-DATA-AnnaGrazielle/main/world_alcohol.csv\", sep=',')\n",
        "\n",
        "# LETRA A\n",
        "typesGroup = df.groupby('Beverage Types')\n",
        "print(typesGroup.first())\n",
        "\n",
        "# LETRA B\n",
        "regionAndYear = df.groupby(['WHO region', 'Year'])\n",
        "print(regionAndYear.first())\n",
        "\n",
        "# LETRA C\n",
        "regions = df['WHO region'].value_counts()\n",
        "print(regions)\n",
        "\n",
        "countries = df['Country'].value_counts()\n",
        "print(countries)\n",
        "\n",
        "drinkCounts = df.groupby('Beverage Types')['Display Value'].sum()\n",
        "print(drinkCounts)\n",
        "\n",
        "# LETRA D\n",
        "\n",
        "valuesMean = df['Display Value'].mean()\n",
        "valuesMode = df['Display Value'].mode()[0]\n",
        "valuesMedian = df['Display Value'].median()\n",
        "descriptiveStatistics = df['Display Value'].describe()\n",
        "\n",
        "print(valuesMean)\n",
        "print(valuesMode)\n",
        "print(valuesMedian)\n",
        "print(descriptiveStatistics)\n",
        "print(drinkCounts.plot())\n",
        "\n",
        "## LETRA E\n",
        "\n",
        "# ITEM I\n",
        "drinksYear = df[df['Year'] == 1985]['Beverage Types']\n",
        "print(drinksYear)\n",
        "\n",
        "# ITEM II\n",
        "region = df[df['Display Value'] > 4]['WHO region']\n",
        "print(region)"
      ]
    },
    {
      "cell_type": "code",
      "source": [
        "import pandas as pd\n",
        "import numpy as np\n",
        "\n",
        "# QUESTÃO 02\n",
        "\n",
        "df = pd.read_csv('https://raw.githubusercontent.com/grazielleanna/NF3-BIG-DATA-AnnaGrazielle/main/cursos-prouni.csv%20-%20cursos-prouni.csv.csv', sep=',')\n",
        "\n",
        "# LETRA A:\n",
        "df = df.replace(to_replace=np.nan, value=\"0,0\");\n",
        "print(df)\n",
        "\n",
        "# LETRA B:\n",
        "dfGrau = df.groupby(['grau'])\n",
        "print(dfGrau.first())\n",
        "\n",
        "# LETRA C:\n",
        "cursosDf = df.groupby('curso_busca')\n",
        "cursosDf.first()\n",
        "cursosDf.get_group('Matemática')\n",
        "\n",
        "# LETRA D:\n",
        "df.groupby('uf_busca').mean()\n",
        "\n",
        "# LETRA E:\n",
        "df.groupby('grau').get_group('Tecnológico')\n",
        "\n",
        "# LETRA F:\n",
        "df.drop('cidade_filtro', inplace=True, axis=1)\n",
        "\n",
        "# LETRA G\n",
        "dfMedicina = df[df['curso_busca'] == 'Medicina']\n",
        "mediaMedicina = dfMedicina['mensalidade'].mean()\n",
        "print(mediaMedicina)\n",
        "\n",
        "# # LETRA H:\n",
        "dfIntegral = df[df['turno'] == \"Integral\"]\n",
        "mediaNota = dfIntegral['nota_integral_ampla'].mean()\n",
        "print(mediaNota)\n",
        "\n",
        "# # LETRA I:\n",
        "df.groupby('grau').get_group('Bacharelado')['nota_integral_ampla'].describe()\n",
        "\n",
        "# LETRA J\n",
        "df.groupby('grau')['nota_integral_cotas'].value_counts().plot()"
      ],
      "metadata": {
        "colab": {
          "base_uri": "https://localhost:8080/"
        },
        "id": "ze4NLlCGb_WP",
        "outputId": "37286c58-53a7-42f4-98bd-c505a450fb11"
      },
      "execution_count": 65,
      "outputs": [
        {
          "output_type": "stream",
          "name": "stdout",
          "text": [
            "663.1000342465754\n"
          ]
        }
      ]
    }
  ]
}